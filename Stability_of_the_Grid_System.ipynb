{
  "nbformat": 4,
  "nbformat_minor": 0,
  "metadata": {
    "colab": {
      "provenance": [],
      "authorship_tag": "ABX9TyPCASU4zAU4cVbDJuASox2d",
      "include_colab_link": true
    },
    "kernelspec": {
      "name": "python3",
      "display_name": "Python 3"
    },
    "language_info": {
      "name": "python"
    }
  },
  "cells": [
    {
      "cell_type": "markdown",
      "metadata": {
        "id": "view-in-github",
        "colab_type": "text"
      },
      "source": [
        "<a href=\"https://colab.research.google.com/github/wangechi-wq/Stability-of-the-Grid-system/blob/main/Stability_of_the_Grid_System.ipynb\" target=\"_parent\"><img src=\"https://colab.research.google.com/assets/colab-badge.svg\" alt=\"Open In Colab\"/></a>"
      ]
    },
    {
      "cell_type": "code",
      "execution_count": 1,
      "metadata": {
        "id": "19eS_rJr1PgB"
      },
      "outputs": [],
      "source": [
        "#importing libraries\n",
        "import pandas as pd\n",
        "import numpy as np\n",
        "import matplotlib.pyplot as plt\n",
        "%matplotlib inline"
      ]
    },
    {
      "cell_type": "code",
      "source": [
        "#importinng the dataset\n",
        "energy=pd.read_csv('/content/Data_for_UCI_named.csv')\n",
        "energy.head(3)"
      ],
      "metadata": {
        "colab": {
          "base_uri": "https://localhost:8080/",
          "height": 207
        },
        "id": "zST0UiD01aXu",
        "outputId": "b4a70d86-8263-4d27-8ee6-f0cc773981ed"
      },
      "execution_count": 2,
      "outputs": [
        {
          "output_type": "execute_result",
          "data": {
            "text/plain": [
              "       tau1      tau2      tau3      tau4        p1        p2        p3  \\\n",
              "0  2.959060  3.079885  8.381025  9.780754  3.763085 -0.782604 -1.257395   \n",
              "1  9.304097  4.902524  3.047541  1.369357  5.067812 -1.940058 -1.872742   \n",
              "2  8.971707  8.848428  3.046479  1.214518  3.405158 -1.207456 -1.277210   \n",
              "\n",
              "         p4        g1        g2        g3        g4      stab     stabf  \n",
              "0 -1.723086  0.650456  0.859578  0.887445  0.958034  0.055347  unstable  \n",
              "1 -1.255012  0.413441  0.862414  0.562139  0.781760 -0.005957    stable  \n",
              "2 -0.920492  0.163041  0.766689  0.839444  0.109853  0.003471  unstable  "
            ],
            "text/html": [
              "\n",
              "  <div id=\"df-817c54d3-dab3-45c1-98e2-f94bd33580ad\">\n",
              "    <div class=\"colab-df-container\">\n",
              "      <div>\n",
              "<style scoped>\n",
              "    .dataframe tbody tr th:only-of-type {\n",
              "        vertical-align: middle;\n",
              "    }\n",
              "\n",
              "    .dataframe tbody tr th {\n",
              "        vertical-align: top;\n",
              "    }\n",
              "\n",
              "    .dataframe thead th {\n",
              "        text-align: right;\n",
              "    }\n",
              "</style>\n",
              "<table border=\"1\" class=\"dataframe\">\n",
              "  <thead>\n",
              "    <tr style=\"text-align: right;\">\n",
              "      <th></th>\n",
              "      <th>tau1</th>\n",
              "      <th>tau2</th>\n",
              "      <th>tau3</th>\n",
              "      <th>tau4</th>\n",
              "      <th>p1</th>\n",
              "      <th>p2</th>\n",
              "      <th>p3</th>\n",
              "      <th>p4</th>\n",
              "      <th>g1</th>\n",
              "      <th>g2</th>\n",
              "      <th>g3</th>\n",
              "      <th>g4</th>\n",
              "      <th>stab</th>\n",
              "      <th>stabf</th>\n",
              "    </tr>\n",
              "  </thead>\n",
              "  <tbody>\n",
              "    <tr>\n",
              "      <th>0</th>\n",
              "      <td>2.959060</td>\n",
              "      <td>3.079885</td>\n",
              "      <td>8.381025</td>\n",
              "      <td>9.780754</td>\n",
              "      <td>3.763085</td>\n",
              "      <td>-0.782604</td>\n",
              "      <td>-1.257395</td>\n",
              "      <td>-1.723086</td>\n",
              "      <td>0.650456</td>\n",
              "      <td>0.859578</td>\n",
              "      <td>0.887445</td>\n",
              "      <td>0.958034</td>\n",
              "      <td>0.055347</td>\n",
              "      <td>unstable</td>\n",
              "    </tr>\n",
              "    <tr>\n",
              "      <th>1</th>\n",
              "      <td>9.304097</td>\n",
              "      <td>4.902524</td>\n",
              "      <td>3.047541</td>\n",
              "      <td>1.369357</td>\n",
              "      <td>5.067812</td>\n",
              "      <td>-1.940058</td>\n",
              "      <td>-1.872742</td>\n",
              "      <td>-1.255012</td>\n",
              "      <td>0.413441</td>\n",
              "      <td>0.862414</td>\n",
              "      <td>0.562139</td>\n",
              "      <td>0.781760</td>\n",
              "      <td>-0.005957</td>\n",
              "      <td>stable</td>\n",
              "    </tr>\n",
              "    <tr>\n",
              "      <th>2</th>\n",
              "      <td>8.971707</td>\n",
              "      <td>8.848428</td>\n",
              "      <td>3.046479</td>\n",
              "      <td>1.214518</td>\n",
              "      <td>3.405158</td>\n",
              "      <td>-1.207456</td>\n",
              "      <td>-1.277210</td>\n",
              "      <td>-0.920492</td>\n",
              "      <td>0.163041</td>\n",
              "      <td>0.766689</td>\n",
              "      <td>0.839444</td>\n",
              "      <td>0.109853</td>\n",
              "      <td>0.003471</td>\n",
              "      <td>unstable</td>\n",
              "    </tr>\n",
              "  </tbody>\n",
              "</table>\n",
              "</div>\n",
              "      <button class=\"colab-df-convert\" onclick=\"convertToInteractive('df-817c54d3-dab3-45c1-98e2-f94bd33580ad')\"\n",
              "              title=\"Convert this dataframe to an interactive table.\"\n",
              "              style=\"display:none;\">\n",
              "        \n",
              "  <svg xmlns=\"http://www.w3.org/2000/svg\" height=\"24px\"viewBox=\"0 0 24 24\"\n",
              "       width=\"24px\">\n",
              "    <path d=\"M0 0h24v24H0V0z\" fill=\"none\"/>\n",
              "    <path d=\"M18.56 5.44l.94 2.06.94-2.06 2.06-.94-2.06-.94-.94-2.06-.94 2.06-2.06.94zm-11 1L8.5 8.5l.94-2.06 2.06-.94-2.06-.94L8.5 2.5l-.94 2.06-2.06.94zm10 10l.94 2.06.94-2.06 2.06-.94-2.06-.94-.94-2.06-.94 2.06-2.06.94z\"/><path d=\"M17.41 7.96l-1.37-1.37c-.4-.4-.92-.59-1.43-.59-.52 0-1.04.2-1.43.59L10.3 9.45l-7.72 7.72c-.78.78-.78 2.05 0 2.83L4 21.41c.39.39.9.59 1.41.59.51 0 1.02-.2 1.41-.59l7.78-7.78 2.81-2.81c.8-.78.8-2.07 0-2.86zM5.41 20L4 18.59l7.72-7.72 1.47 1.35L5.41 20z\"/>\n",
              "  </svg>\n",
              "      </button>\n",
              "      \n",
              "  <style>\n",
              "    .colab-df-container {\n",
              "      display:flex;\n",
              "      flex-wrap:wrap;\n",
              "      gap: 12px;\n",
              "    }\n",
              "\n",
              "    .colab-df-convert {\n",
              "      background-color: #E8F0FE;\n",
              "      border: none;\n",
              "      border-radius: 50%;\n",
              "      cursor: pointer;\n",
              "      display: none;\n",
              "      fill: #1967D2;\n",
              "      height: 32px;\n",
              "      padding: 0 0 0 0;\n",
              "      width: 32px;\n",
              "    }\n",
              "\n",
              "    .colab-df-convert:hover {\n",
              "      background-color: #E2EBFA;\n",
              "      box-shadow: 0px 1px 2px rgba(60, 64, 67, 0.3), 0px 1px 3px 1px rgba(60, 64, 67, 0.15);\n",
              "      fill: #174EA6;\n",
              "    }\n",
              "\n",
              "    [theme=dark] .colab-df-convert {\n",
              "      background-color: #3B4455;\n",
              "      fill: #D2E3FC;\n",
              "    }\n",
              "\n",
              "    [theme=dark] .colab-df-convert:hover {\n",
              "      background-color: #434B5C;\n",
              "      box-shadow: 0px 1px 3px 1px rgba(0, 0, 0, 0.15);\n",
              "      filter: drop-shadow(0px 1px 2px rgba(0, 0, 0, 0.3));\n",
              "      fill: #FFFFFF;\n",
              "    }\n",
              "  </style>\n",
              "\n",
              "      <script>\n",
              "        const buttonEl =\n",
              "          document.querySelector('#df-817c54d3-dab3-45c1-98e2-f94bd33580ad button.colab-df-convert');\n",
              "        buttonEl.style.display =\n",
              "          google.colab.kernel.accessAllowed ? 'block' : 'none';\n",
              "\n",
              "        async function convertToInteractive(key) {\n",
              "          const element = document.querySelector('#df-817c54d3-dab3-45c1-98e2-f94bd33580ad');\n",
              "          const dataTable =\n",
              "            await google.colab.kernel.invokeFunction('convertToInteractive',\n",
              "                                                     [key], {});\n",
              "          if (!dataTable) return;\n",
              "\n",
              "          const docLinkHtml = 'Like what you see? Visit the ' +\n",
              "            '<a target=\"_blank\" href=https://colab.research.google.com/notebooks/data_table.ipynb>data table notebook</a>'\n",
              "            + ' to learn more about interactive tables.';\n",
              "          element.innerHTML = '';\n",
              "          dataTable['output_type'] = 'display_data';\n",
              "          await google.colab.output.renderOutput(dataTable, element);\n",
              "          const docLink = document.createElement('div');\n",
              "          docLink.innerHTML = docLinkHtml;\n",
              "          element.appendChild(docLink);\n",
              "        }\n",
              "      </script>\n",
              "    </div>\n",
              "  </div>\n",
              "  "
            ]
          },
          "metadata": {},
          "execution_count": 2
        }
      ]
    },
    {
      "cell_type": "code",
      "source": [
        "#checking the shape of the dataset\n",
        "print(f'The dataset contains: {energy.shape[0]} rows and {energy.shape[1]} columns')"
      ],
      "metadata": {
        "colab": {
          "base_uri": "https://localhost:8080/"
        },
        "id": "1pugL1b_1aUo",
        "outputId": "bf5a52f9-9e66-4437-a771-824aad25f9d3"
      },
      "execution_count": 3,
      "outputs": [
        {
          "output_type": "stream",
          "name": "stdout",
          "text": [
            "The dataset contains: 10000 rows and 14 columns\n"
          ]
        }
      ]
    },
    {
      "cell_type": "code",
      "source": [
        "#checking for null values\n",
        "energy.isnull().sum()"
      ],
      "metadata": {
        "colab": {
          "base_uri": "https://localhost:8080/"
        },
        "id": "J42SWLZP1aQk",
        "outputId": "f6521a44-c189-4f20-a0d1-3c4061f77bac"
      },
      "execution_count": 4,
      "outputs": [
        {
          "output_type": "execute_result",
          "data": {
            "text/plain": [
              "tau1     0\n",
              "tau2     0\n",
              "tau3     0\n",
              "tau4     0\n",
              "p1       0\n",
              "p2       0\n",
              "p3       0\n",
              "p4       0\n",
              "g1       0\n",
              "g2       0\n",
              "g3       0\n",
              "g4       0\n",
              "stab     0\n",
              "stabf    0\n",
              "dtype: int64"
            ]
          },
          "metadata": {},
          "execution_count": 4
        }
      ]
    },
    {
      "cell_type": "markdown",
      "source": [
        "there are no null values"
      ],
      "metadata": {
        "id": "4jsygkjM9qnT"
      }
    },
    {
      "cell_type": "code",
      "source": [
        "#checking the data types for the columns\n",
        "energy.dtypes\n",
        "     "
      ],
      "metadata": {
        "colab": {
          "base_uri": "https://localhost:8080/"
        },
        "id": "2dZn5yM_1aOu",
        "outputId": "018c425c-289d-475c-aed8-e2839ff66c49"
      },
      "execution_count": 5,
      "outputs": [
        {
          "output_type": "execute_result",
          "data": {
            "text/plain": [
              "tau1     float64\n",
              "tau2     float64\n",
              "tau3     float64\n",
              "tau4     float64\n",
              "p1       float64\n",
              "p2       float64\n",
              "p3       float64\n",
              "p4       float64\n",
              "g1       float64\n",
              "g2       float64\n",
              "g3       float64\n",
              "g4       float64\n",
              "stab     float64\n",
              "stabf     object\n",
              "dtype: object"
            ]
          },
          "metadata": {},
          "execution_count": 5
        }
      ]
    },
    {
      "cell_type": "code",
      "source": [
        "#checking the information about the dataset\n",
        "energy.info()    "
      ],
      "metadata": {
        "colab": {
          "base_uri": "https://localhost:8080/"
        },
        "id": "LbTwoji31aKh",
        "outputId": "ef1966d0-cbd3-4db2-b5cd-4ec494481e58"
      },
      "execution_count": 6,
      "outputs": [
        {
          "output_type": "stream",
          "name": "stdout",
          "text": [
            "<class 'pandas.core.frame.DataFrame'>\n",
            "RangeIndex: 10000 entries, 0 to 9999\n",
            "Data columns (total 14 columns):\n",
            " #   Column  Non-Null Count  Dtype  \n",
            "---  ------  --------------  -----  \n",
            " 0   tau1    10000 non-null  float64\n",
            " 1   tau2    10000 non-null  float64\n",
            " 2   tau3    10000 non-null  float64\n",
            " 3   tau4    10000 non-null  float64\n",
            " 4   p1      10000 non-null  float64\n",
            " 5   p2      10000 non-null  float64\n",
            " 6   p3      10000 non-null  float64\n",
            " 7   p4      10000 non-null  float64\n",
            " 8   g1      10000 non-null  float64\n",
            " 9   g2      10000 non-null  float64\n",
            " 10  g3      10000 non-null  float64\n",
            " 11  g4      10000 non-null  float64\n",
            " 12  stab    10000 non-null  float64\n",
            " 13  stabf   10000 non-null  object \n",
            "dtypes: float64(13), object(1)\n",
            "memory usage: 1.1+ MB\n"
          ]
        }
      ]
    },
    {
      "cell_type": "code",
      "source": [
        "#checking the descriptive statistics for the dataset\n",
        "energy.describe()"
      ],
      "metadata": {
        "colab": {
          "base_uri": "https://localhost:8080/",
          "height": 364
        },
        "id": "hi2kqJgP1aIl",
        "outputId": "84a07bbc-c709-4a72-f583-7afec93d8a6f"
      },
      "execution_count": 7,
      "outputs": [
        {
          "output_type": "execute_result",
          "data": {
            "text/plain": [
              "               tau1          tau2          tau3          tau4            p1  \\\n",
              "count  10000.000000  10000.000000  10000.000000  10000.000000  10000.000000   \n",
              "mean       5.250000      5.250001      5.250004      5.249997      3.750000   \n",
              "std        2.742548      2.742549      2.742549      2.742556      0.752160   \n",
              "min        0.500793      0.500141      0.500788      0.500473      1.582590   \n",
              "25%        2.874892      2.875140      2.875522      2.874950      3.218300   \n",
              "50%        5.250004      5.249981      5.249979      5.249734      3.751025   \n",
              "75%        7.624690      7.624893      7.624948      7.624838      4.282420   \n",
              "max        9.999469      9.999837      9.999450      9.999443      5.864418   \n",
              "\n",
              "                 p2            p3            p4            g1            g2  \\\n",
              "count  10000.000000  10000.000000  10000.000000  10000.000000  10000.000000   \n",
              "mean      -1.250000     -1.250000     -1.250000      0.525000      0.525000   \n",
              "std        0.433035      0.433035      0.433035      0.274256      0.274255   \n",
              "min       -1.999891     -1.999945     -1.999926      0.050009      0.050053   \n",
              "25%       -1.624901     -1.625025     -1.624960      0.287521      0.287552   \n",
              "50%       -1.249966     -1.249974     -1.250007      0.525009      0.525003   \n",
              "75%       -0.874977     -0.875043     -0.875065      0.762435      0.762490   \n",
              "max       -0.500108     -0.500072     -0.500025      0.999937      0.999944   \n",
              "\n",
              "                 g3            g4          stab  \n",
              "count  10000.000000  10000.000000  10000.000000  \n",
              "mean       0.525000      0.525000      0.015731  \n",
              "std        0.274255      0.274255      0.036919  \n",
              "min        0.050054      0.050028     -0.080760  \n",
              "25%        0.287514      0.287494     -0.015557  \n",
              "50%        0.525015      0.525002      0.017142  \n",
              "75%        0.762440      0.762433      0.044878  \n",
              "max        0.999982      0.999930      0.109403  "
            ],
            "text/html": [
              "\n",
              "  <div id=\"df-5c99cce4-707d-40a4-811a-b62586234ac7\">\n",
              "    <div class=\"colab-df-container\">\n",
              "      <div>\n",
              "<style scoped>\n",
              "    .dataframe tbody tr th:only-of-type {\n",
              "        vertical-align: middle;\n",
              "    }\n",
              "\n",
              "    .dataframe tbody tr th {\n",
              "        vertical-align: top;\n",
              "    }\n",
              "\n",
              "    .dataframe thead th {\n",
              "        text-align: right;\n",
              "    }\n",
              "</style>\n",
              "<table border=\"1\" class=\"dataframe\">\n",
              "  <thead>\n",
              "    <tr style=\"text-align: right;\">\n",
              "      <th></th>\n",
              "      <th>tau1</th>\n",
              "      <th>tau2</th>\n",
              "      <th>tau3</th>\n",
              "      <th>tau4</th>\n",
              "      <th>p1</th>\n",
              "      <th>p2</th>\n",
              "      <th>p3</th>\n",
              "      <th>p4</th>\n",
              "      <th>g1</th>\n",
              "      <th>g2</th>\n",
              "      <th>g3</th>\n",
              "      <th>g4</th>\n",
              "      <th>stab</th>\n",
              "    </tr>\n",
              "  </thead>\n",
              "  <tbody>\n",
              "    <tr>\n",
              "      <th>count</th>\n",
              "      <td>10000.000000</td>\n",
              "      <td>10000.000000</td>\n",
              "      <td>10000.000000</td>\n",
              "      <td>10000.000000</td>\n",
              "      <td>10000.000000</td>\n",
              "      <td>10000.000000</td>\n",
              "      <td>10000.000000</td>\n",
              "      <td>10000.000000</td>\n",
              "      <td>10000.000000</td>\n",
              "      <td>10000.000000</td>\n",
              "      <td>10000.000000</td>\n",
              "      <td>10000.000000</td>\n",
              "      <td>10000.000000</td>\n",
              "    </tr>\n",
              "    <tr>\n",
              "      <th>mean</th>\n",
              "      <td>5.250000</td>\n",
              "      <td>5.250001</td>\n",
              "      <td>5.250004</td>\n",
              "      <td>5.249997</td>\n",
              "      <td>3.750000</td>\n",
              "      <td>-1.250000</td>\n",
              "      <td>-1.250000</td>\n",
              "      <td>-1.250000</td>\n",
              "      <td>0.525000</td>\n",
              "      <td>0.525000</td>\n",
              "      <td>0.525000</td>\n",
              "      <td>0.525000</td>\n",
              "      <td>0.015731</td>\n",
              "    </tr>\n",
              "    <tr>\n",
              "      <th>std</th>\n",
              "      <td>2.742548</td>\n",
              "      <td>2.742549</td>\n",
              "      <td>2.742549</td>\n",
              "      <td>2.742556</td>\n",
              "      <td>0.752160</td>\n",
              "      <td>0.433035</td>\n",
              "      <td>0.433035</td>\n",
              "      <td>0.433035</td>\n",
              "      <td>0.274256</td>\n",
              "      <td>0.274255</td>\n",
              "      <td>0.274255</td>\n",
              "      <td>0.274255</td>\n",
              "      <td>0.036919</td>\n",
              "    </tr>\n",
              "    <tr>\n",
              "      <th>min</th>\n",
              "      <td>0.500793</td>\n",
              "      <td>0.500141</td>\n",
              "      <td>0.500788</td>\n",
              "      <td>0.500473</td>\n",
              "      <td>1.582590</td>\n",
              "      <td>-1.999891</td>\n",
              "      <td>-1.999945</td>\n",
              "      <td>-1.999926</td>\n",
              "      <td>0.050009</td>\n",
              "      <td>0.050053</td>\n",
              "      <td>0.050054</td>\n",
              "      <td>0.050028</td>\n",
              "      <td>-0.080760</td>\n",
              "    </tr>\n",
              "    <tr>\n",
              "      <th>25%</th>\n",
              "      <td>2.874892</td>\n",
              "      <td>2.875140</td>\n",
              "      <td>2.875522</td>\n",
              "      <td>2.874950</td>\n",
              "      <td>3.218300</td>\n",
              "      <td>-1.624901</td>\n",
              "      <td>-1.625025</td>\n",
              "      <td>-1.624960</td>\n",
              "      <td>0.287521</td>\n",
              "      <td>0.287552</td>\n",
              "      <td>0.287514</td>\n",
              "      <td>0.287494</td>\n",
              "      <td>-0.015557</td>\n",
              "    </tr>\n",
              "    <tr>\n",
              "      <th>50%</th>\n",
              "      <td>5.250004</td>\n",
              "      <td>5.249981</td>\n",
              "      <td>5.249979</td>\n",
              "      <td>5.249734</td>\n",
              "      <td>3.751025</td>\n",
              "      <td>-1.249966</td>\n",
              "      <td>-1.249974</td>\n",
              "      <td>-1.250007</td>\n",
              "      <td>0.525009</td>\n",
              "      <td>0.525003</td>\n",
              "      <td>0.525015</td>\n",
              "      <td>0.525002</td>\n",
              "      <td>0.017142</td>\n",
              "    </tr>\n",
              "    <tr>\n",
              "      <th>75%</th>\n",
              "      <td>7.624690</td>\n",
              "      <td>7.624893</td>\n",
              "      <td>7.624948</td>\n",
              "      <td>7.624838</td>\n",
              "      <td>4.282420</td>\n",
              "      <td>-0.874977</td>\n",
              "      <td>-0.875043</td>\n",
              "      <td>-0.875065</td>\n",
              "      <td>0.762435</td>\n",
              "      <td>0.762490</td>\n",
              "      <td>0.762440</td>\n",
              "      <td>0.762433</td>\n",
              "      <td>0.044878</td>\n",
              "    </tr>\n",
              "    <tr>\n",
              "      <th>max</th>\n",
              "      <td>9.999469</td>\n",
              "      <td>9.999837</td>\n",
              "      <td>9.999450</td>\n",
              "      <td>9.999443</td>\n",
              "      <td>5.864418</td>\n",
              "      <td>-0.500108</td>\n",
              "      <td>-0.500072</td>\n",
              "      <td>-0.500025</td>\n",
              "      <td>0.999937</td>\n",
              "      <td>0.999944</td>\n",
              "      <td>0.999982</td>\n",
              "      <td>0.999930</td>\n",
              "      <td>0.109403</td>\n",
              "    </tr>\n",
              "  </tbody>\n",
              "</table>\n",
              "</div>\n",
              "      <button class=\"colab-df-convert\" onclick=\"convertToInteractive('df-5c99cce4-707d-40a4-811a-b62586234ac7')\"\n",
              "              title=\"Convert this dataframe to an interactive table.\"\n",
              "              style=\"display:none;\">\n",
              "        \n",
              "  <svg xmlns=\"http://www.w3.org/2000/svg\" height=\"24px\"viewBox=\"0 0 24 24\"\n",
              "       width=\"24px\">\n",
              "    <path d=\"M0 0h24v24H0V0z\" fill=\"none\"/>\n",
              "    <path d=\"M18.56 5.44l.94 2.06.94-2.06 2.06-.94-2.06-.94-.94-2.06-.94 2.06-2.06.94zm-11 1L8.5 8.5l.94-2.06 2.06-.94-2.06-.94L8.5 2.5l-.94 2.06-2.06.94zm10 10l.94 2.06.94-2.06 2.06-.94-2.06-.94-.94-2.06-.94 2.06-2.06.94z\"/><path d=\"M17.41 7.96l-1.37-1.37c-.4-.4-.92-.59-1.43-.59-.52 0-1.04.2-1.43.59L10.3 9.45l-7.72 7.72c-.78.78-.78 2.05 0 2.83L4 21.41c.39.39.9.59 1.41.59.51 0 1.02-.2 1.41-.59l7.78-7.78 2.81-2.81c.8-.78.8-2.07 0-2.86zM5.41 20L4 18.59l7.72-7.72 1.47 1.35L5.41 20z\"/>\n",
              "  </svg>\n",
              "      </button>\n",
              "      \n",
              "  <style>\n",
              "    .colab-df-container {\n",
              "      display:flex;\n",
              "      flex-wrap:wrap;\n",
              "      gap: 12px;\n",
              "    }\n",
              "\n",
              "    .colab-df-convert {\n",
              "      background-color: #E8F0FE;\n",
              "      border: none;\n",
              "      border-radius: 50%;\n",
              "      cursor: pointer;\n",
              "      display: none;\n",
              "      fill: #1967D2;\n",
              "      height: 32px;\n",
              "      padding: 0 0 0 0;\n",
              "      width: 32px;\n",
              "    }\n",
              "\n",
              "    .colab-df-convert:hover {\n",
              "      background-color: #E2EBFA;\n",
              "      box-shadow: 0px 1px 2px rgba(60, 64, 67, 0.3), 0px 1px 3px 1px rgba(60, 64, 67, 0.15);\n",
              "      fill: #174EA6;\n",
              "    }\n",
              "\n",
              "    [theme=dark] .colab-df-convert {\n",
              "      background-color: #3B4455;\n",
              "      fill: #D2E3FC;\n",
              "    }\n",
              "\n",
              "    [theme=dark] .colab-df-convert:hover {\n",
              "      background-color: #434B5C;\n",
              "      box-shadow: 0px 1px 3px 1px rgba(0, 0, 0, 0.15);\n",
              "      filter: drop-shadow(0px 1px 2px rgba(0, 0, 0, 0.3));\n",
              "      fill: #FFFFFF;\n",
              "    }\n",
              "  </style>\n",
              "\n",
              "      <script>\n",
              "        const buttonEl =\n",
              "          document.querySelector('#df-5c99cce4-707d-40a4-811a-b62586234ac7 button.colab-df-convert');\n",
              "        buttonEl.style.display =\n",
              "          google.colab.kernel.accessAllowed ? 'block' : 'none';\n",
              "\n",
              "        async function convertToInteractive(key) {\n",
              "          const element = document.querySelector('#df-5c99cce4-707d-40a4-811a-b62586234ac7');\n",
              "          const dataTable =\n",
              "            await google.colab.kernel.invokeFunction('convertToInteractive',\n",
              "                                                     [key], {});\n",
              "          if (!dataTable) return;\n",
              "\n",
              "          const docLinkHtml = 'Like what you see? Visit the ' +\n",
              "            '<a target=\"_blank\" href=https://colab.research.google.com/notebooks/data_table.ipynb>data table notebook</a>'\n",
              "            + ' to learn more about interactive tables.';\n",
              "          element.innerHTML = '';\n",
              "          dataTable['output_type'] = 'display_data';\n",
              "          await google.colab.output.renderOutput(dataTable, element);\n",
              "          const docLink = document.createElement('div');\n",
              "          docLink.innerHTML = docLinkHtml;\n",
              "          element.appendChild(docLink);\n",
              "        }\n",
              "      </script>\n",
              "    </div>\n",
              "  </div>\n",
              "  "
            ]
          },
          "metadata": {},
          "execution_count": 7
        }
      ]
    },
    {
      "cell_type": "code",
      "source": [
        "#checking correlation between the variables\n",
        "energy.corr()"
      ],
      "metadata": {
        "colab": {
          "base_uri": "https://localhost:8080/",
          "height": 521
        },
        "id": "YDHc_4ak2d1m",
        "outputId": "9bc62ee7-c7f4-4cc7-fd58-ae23be19bd99"
      },
      "execution_count": 8,
      "outputs": [
        {
          "output_type": "execute_result",
          "data": {
            "text/plain": [
              "          tau1      tau2      tau3      tau4        p1        p2        p3  \\\n",
              "tau1  1.000000  0.015586 -0.005970 -0.017265  0.027183 -0.015485 -0.015924   \n",
              "tau2  0.015586  1.000000  0.014273 -0.001965 -0.004769  0.006573  0.007673   \n",
              "tau3 -0.005970  0.014273  1.000000  0.004354  0.016953 -0.003134 -0.008780   \n",
              "tau4 -0.017265 -0.001965  0.004354  1.000000 -0.003173  0.010553  0.006169   \n",
              "p1    0.027183 -0.004769  0.016953 -0.003173  1.000000 -0.573157 -0.584554   \n",
              "p2   -0.015485  0.006573 -0.003134  0.010553 -0.573157  1.000000  0.002388   \n",
              "p3   -0.015924  0.007673 -0.008780  0.006169 -0.584554  0.002388  1.000000   \n",
              "p4   -0.015807 -0.005963 -0.017531 -0.011211 -0.579239 -0.006844  0.012953   \n",
              "g1    0.010521 -0.001742 -0.011605 -0.004149  0.000721  0.015603 -0.003219   \n",
              "g2    0.015350  0.015383  0.007671  0.008431  0.015405 -0.018032 -0.011575   \n",
              "g3   -0.001279  0.016508  0.014702  0.003260  0.001069  0.007555 -0.005897   \n",
              "g4    0.005494 -0.011764 -0.011497 -0.000491 -0.015451  0.019817 -0.010485   \n",
              "stab  0.275761  0.290975  0.280700  0.278576  0.010278  0.006255 -0.003321   \n",
              "\n",
              "            p4        g1        g2        g3        g4      stab  \n",
              "tau1 -0.015807  0.010521  0.015350 -0.001279  0.005494  0.275761  \n",
              "tau2 -0.005963 -0.001742  0.015383  0.016508 -0.011764  0.290975  \n",
              "tau3 -0.017531 -0.011605  0.007671  0.014702 -0.011497  0.280700  \n",
              "tau4 -0.011211 -0.004149  0.008431  0.003260 -0.000491  0.278576  \n",
              "p1   -0.579239  0.000721  0.015405  0.001069 -0.015451  0.010278  \n",
              "p2   -0.006844  0.015603 -0.018032  0.007555  0.019817  0.006255  \n",
              "p3    0.012953 -0.003219 -0.011575 -0.005897 -0.010485 -0.003321  \n",
              "p4    1.000000 -0.013636  0.002850 -0.003515  0.017505 -0.020786  \n",
              "g1   -0.013636  1.000000  0.007559 -0.005836  0.012431  0.282774  \n",
              "g2    0.002850  0.007559  1.000000 -0.012809 -0.014909  0.293601  \n",
              "g3   -0.003515 -0.005836 -0.012809  1.000000  0.006900  0.308235  \n",
              "g4    0.017505  0.012431 -0.014909  0.006900  1.000000  0.279214  \n",
              "stab -0.020786  0.282774  0.293601  0.308235  0.279214  1.000000  "
            ],
            "text/html": [
              "\n",
              "  <div id=\"df-a81e1af0-e154-42d0-ba90-55172742b25d\">\n",
              "    <div class=\"colab-df-container\">\n",
              "      <div>\n",
              "<style scoped>\n",
              "    .dataframe tbody tr th:only-of-type {\n",
              "        vertical-align: middle;\n",
              "    }\n",
              "\n",
              "    .dataframe tbody tr th {\n",
              "        vertical-align: top;\n",
              "    }\n",
              "\n",
              "    .dataframe thead th {\n",
              "        text-align: right;\n",
              "    }\n",
              "</style>\n",
              "<table border=\"1\" class=\"dataframe\">\n",
              "  <thead>\n",
              "    <tr style=\"text-align: right;\">\n",
              "      <th></th>\n",
              "      <th>tau1</th>\n",
              "      <th>tau2</th>\n",
              "      <th>tau3</th>\n",
              "      <th>tau4</th>\n",
              "      <th>p1</th>\n",
              "      <th>p2</th>\n",
              "      <th>p3</th>\n",
              "      <th>p4</th>\n",
              "      <th>g1</th>\n",
              "      <th>g2</th>\n",
              "      <th>g3</th>\n",
              "      <th>g4</th>\n",
              "      <th>stab</th>\n",
              "    </tr>\n",
              "  </thead>\n",
              "  <tbody>\n",
              "    <tr>\n",
              "      <th>tau1</th>\n",
              "      <td>1.000000</td>\n",
              "      <td>0.015586</td>\n",
              "      <td>-0.005970</td>\n",
              "      <td>-0.017265</td>\n",
              "      <td>0.027183</td>\n",
              "      <td>-0.015485</td>\n",
              "      <td>-0.015924</td>\n",
              "      <td>-0.015807</td>\n",
              "      <td>0.010521</td>\n",
              "      <td>0.015350</td>\n",
              "      <td>-0.001279</td>\n",
              "      <td>0.005494</td>\n",
              "      <td>0.275761</td>\n",
              "    </tr>\n",
              "    <tr>\n",
              "      <th>tau2</th>\n",
              "      <td>0.015586</td>\n",
              "      <td>1.000000</td>\n",
              "      <td>0.014273</td>\n",
              "      <td>-0.001965</td>\n",
              "      <td>-0.004769</td>\n",
              "      <td>0.006573</td>\n",
              "      <td>0.007673</td>\n",
              "      <td>-0.005963</td>\n",
              "      <td>-0.001742</td>\n",
              "      <td>0.015383</td>\n",
              "      <td>0.016508</td>\n",
              "      <td>-0.011764</td>\n",
              "      <td>0.290975</td>\n",
              "    </tr>\n",
              "    <tr>\n",
              "      <th>tau3</th>\n",
              "      <td>-0.005970</td>\n",
              "      <td>0.014273</td>\n",
              "      <td>1.000000</td>\n",
              "      <td>0.004354</td>\n",
              "      <td>0.016953</td>\n",
              "      <td>-0.003134</td>\n",
              "      <td>-0.008780</td>\n",
              "      <td>-0.017531</td>\n",
              "      <td>-0.011605</td>\n",
              "      <td>0.007671</td>\n",
              "      <td>0.014702</td>\n",
              "      <td>-0.011497</td>\n",
              "      <td>0.280700</td>\n",
              "    </tr>\n",
              "    <tr>\n",
              "      <th>tau4</th>\n",
              "      <td>-0.017265</td>\n",
              "      <td>-0.001965</td>\n",
              "      <td>0.004354</td>\n",
              "      <td>1.000000</td>\n",
              "      <td>-0.003173</td>\n",
              "      <td>0.010553</td>\n",
              "      <td>0.006169</td>\n",
              "      <td>-0.011211</td>\n",
              "      <td>-0.004149</td>\n",
              "      <td>0.008431</td>\n",
              "      <td>0.003260</td>\n",
              "      <td>-0.000491</td>\n",
              "      <td>0.278576</td>\n",
              "    </tr>\n",
              "    <tr>\n",
              "      <th>p1</th>\n",
              "      <td>0.027183</td>\n",
              "      <td>-0.004769</td>\n",
              "      <td>0.016953</td>\n",
              "      <td>-0.003173</td>\n",
              "      <td>1.000000</td>\n",
              "      <td>-0.573157</td>\n",
              "      <td>-0.584554</td>\n",
              "      <td>-0.579239</td>\n",
              "      <td>0.000721</td>\n",
              "      <td>0.015405</td>\n",
              "      <td>0.001069</td>\n",
              "      <td>-0.015451</td>\n",
              "      <td>0.010278</td>\n",
              "    </tr>\n",
              "    <tr>\n",
              "      <th>p2</th>\n",
              "      <td>-0.015485</td>\n",
              "      <td>0.006573</td>\n",
              "      <td>-0.003134</td>\n",
              "      <td>0.010553</td>\n",
              "      <td>-0.573157</td>\n",
              "      <td>1.000000</td>\n",
              "      <td>0.002388</td>\n",
              "      <td>-0.006844</td>\n",
              "      <td>0.015603</td>\n",
              "      <td>-0.018032</td>\n",
              "      <td>0.007555</td>\n",
              "      <td>0.019817</td>\n",
              "      <td>0.006255</td>\n",
              "    </tr>\n",
              "    <tr>\n",
              "      <th>p3</th>\n",
              "      <td>-0.015924</td>\n",
              "      <td>0.007673</td>\n",
              "      <td>-0.008780</td>\n",
              "      <td>0.006169</td>\n",
              "      <td>-0.584554</td>\n",
              "      <td>0.002388</td>\n",
              "      <td>1.000000</td>\n",
              "      <td>0.012953</td>\n",
              "      <td>-0.003219</td>\n",
              "      <td>-0.011575</td>\n",
              "      <td>-0.005897</td>\n",
              "      <td>-0.010485</td>\n",
              "      <td>-0.003321</td>\n",
              "    </tr>\n",
              "    <tr>\n",
              "      <th>p4</th>\n",
              "      <td>-0.015807</td>\n",
              "      <td>-0.005963</td>\n",
              "      <td>-0.017531</td>\n",
              "      <td>-0.011211</td>\n",
              "      <td>-0.579239</td>\n",
              "      <td>-0.006844</td>\n",
              "      <td>0.012953</td>\n",
              "      <td>1.000000</td>\n",
              "      <td>-0.013636</td>\n",
              "      <td>0.002850</td>\n",
              "      <td>-0.003515</td>\n",
              "      <td>0.017505</td>\n",
              "      <td>-0.020786</td>\n",
              "    </tr>\n",
              "    <tr>\n",
              "      <th>g1</th>\n",
              "      <td>0.010521</td>\n",
              "      <td>-0.001742</td>\n",
              "      <td>-0.011605</td>\n",
              "      <td>-0.004149</td>\n",
              "      <td>0.000721</td>\n",
              "      <td>0.015603</td>\n",
              "      <td>-0.003219</td>\n",
              "      <td>-0.013636</td>\n",
              "      <td>1.000000</td>\n",
              "      <td>0.007559</td>\n",
              "      <td>-0.005836</td>\n",
              "      <td>0.012431</td>\n",
              "      <td>0.282774</td>\n",
              "    </tr>\n",
              "    <tr>\n",
              "      <th>g2</th>\n",
              "      <td>0.015350</td>\n",
              "      <td>0.015383</td>\n",
              "      <td>0.007671</td>\n",
              "      <td>0.008431</td>\n",
              "      <td>0.015405</td>\n",
              "      <td>-0.018032</td>\n",
              "      <td>-0.011575</td>\n",
              "      <td>0.002850</td>\n",
              "      <td>0.007559</td>\n",
              "      <td>1.000000</td>\n",
              "      <td>-0.012809</td>\n",
              "      <td>-0.014909</td>\n",
              "      <td>0.293601</td>\n",
              "    </tr>\n",
              "    <tr>\n",
              "      <th>g3</th>\n",
              "      <td>-0.001279</td>\n",
              "      <td>0.016508</td>\n",
              "      <td>0.014702</td>\n",
              "      <td>0.003260</td>\n",
              "      <td>0.001069</td>\n",
              "      <td>0.007555</td>\n",
              "      <td>-0.005897</td>\n",
              "      <td>-0.003515</td>\n",
              "      <td>-0.005836</td>\n",
              "      <td>-0.012809</td>\n",
              "      <td>1.000000</td>\n",
              "      <td>0.006900</td>\n",
              "      <td>0.308235</td>\n",
              "    </tr>\n",
              "    <tr>\n",
              "      <th>g4</th>\n",
              "      <td>0.005494</td>\n",
              "      <td>-0.011764</td>\n",
              "      <td>-0.011497</td>\n",
              "      <td>-0.000491</td>\n",
              "      <td>-0.015451</td>\n",
              "      <td>0.019817</td>\n",
              "      <td>-0.010485</td>\n",
              "      <td>0.017505</td>\n",
              "      <td>0.012431</td>\n",
              "      <td>-0.014909</td>\n",
              "      <td>0.006900</td>\n",
              "      <td>1.000000</td>\n",
              "      <td>0.279214</td>\n",
              "    </tr>\n",
              "    <tr>\n",
              "      <th>stab</th>\n",
              "      <td>0.275761</td>\n",
              "      <td>0.290975</td>\n",
              "      <td>0.280700</td>\n",
              "      <td>0.278576</td>\n",
              "      <td>0.010278</td>\n",
              "      <td>0.006255</td>\n",
              "      <td>-0.003321</td>\n",
              "      <td>-0.020786</td>\n",
              "      <td>0.282774</td>\n",
              "      <td>0.293601</td>\n",
              "      <td>0.308235</td>\n",
              "      <td>0.279214</td>\n",
              "      <td>1.000000</td>\n",
              "    </tr>\n",
              "  </tbody>\n",
              "</table>\n",
              "</div>\n",
              "      <button class=\"colab-df-convert\" onclick=\"convertToInteractive('df-a81e1af0-e154-42d0-ba90-55172742b25d')\"\n",
              "              title=\"Convert this dataframe to an interactive table.\"\n",
              "              style=\"display:none;\">\n",
              "        \n",
              "  <svg xmlns=\"http://www.w3.org/2000/svg\" height=\"24px\"viewBox=\"0 0 24 24\"\n",
              "       width=\"24px\">\n",
              "    <path d=\"M0 0h24v24H0V0z\" fill=\"none\"/>\n",
              "    <path d=\"M18.56 5.44l.94 2.06.94-2.06 2.06-.94-2.06-.94-.94-2.06-.94 2.06-2.06.94zm-11 1L8.5 8.5l.94-2.06 2.06-.94-2.06-.94L8.5 2.5l-.94 2.06-2.06.94zm10 10l.94 2.06.94-2.06 2.06-.94-2.06-.94-.94-2.06-.94 2.06-2.06.94z\"/><path d=\"M17.41 7.96l-1.37-1.37c-.4-.4-.92-.59-1.43-.59-.52 0-1.04.2-1.43.59L10.3 9.45l-7.72 7.72c-.78.78-.78 2.05 0 2.83L4 21.41c.39.39.9.59 1.41.59.51 0 1.02-.2 1.41-.59l7.78-7.78 2.81-2.81c.8-.78.8-2.07 0-2.86zM5.41 20L4 18.59l7.72-7.72 1.47 1.35L5.41 20z\"/>\n",
              "  </svg>\n",
              "      </button>\n",
              "      \n",
              "  <style>\n",
              "    .colab-df-container {\n",
              "      display:flex;\n",
              "      flex-wrap:wrap;\n",
              "      gap: 12px;\n",
              "    }\n",
              "\n",
              "    .colab-df-convert {\n",
              "      background-color: #E8F0FE;\n",
              "      border: none;\n",
              "      border-radius: 50%;\n",
              "      cursor: pointer;\n",
              "      display: none;\n",
              "      fill: #1967D2;\n",
              "      height: 32px;\n",
              "      padding: 0 0 0 0;\n",
              "      width: 32px;\n",
              "    }\n",
              "\n",
              "    .colab-df-convert:hover {\n",
              "      background-color: #E2EBFA;\n",
              "      box-shadow: 0px 1px 2px rgba(60, 64, 67, 0.3), 0px 1px 3px 1px rgba(60, 64, 67, 0.15);\n",
              "      fill: #174EA6;\n",
              "    }\n",
              "\n",
              "    [theme=dark] .colab-df-convert {\n",
              "      background-color: #3B4455;\n",
              "      fill: #D2E3FC;\n",
              "    }\n",
              "\n",
              "    [theme=dark] .colab-df-convert:hover {\n",
              "      background-color: #434B5C;\n",
              "      box-shadow: 0px 1px 3px 1px rgba(0, 0, 0, 0.15);\n",
              "      filter: drop-shadow(0px 1px 2px rgba(0, 0, 0, 0.3));\n",
              "      fill: #FFFFFF;\n",
              "    }\n",
              "  </style>\n",
              "\n",
              "      <script>\n",
              "        const buttonEl =\n",
              "          document.querySelector('#df-a81e1af0-e154-42d0-ba90-55172742b25d button.colab-df-convert');\n",
              "        buttonEl.style.display =\n",
              "          google.colab.kernel.accessAllowed ? 'block' : 'none';\n",
              "\n",
              "        async function convertToInteractive(key) {\n",
              "          const element = document.querySelector('#df-a81e1af0-e154-42d0-ba90-55172742b25d');\n",
              "          const dataTable =\n",
              "            await google.colab.kernel.invokeFunction('convertToInteractive',\n",
              "                                                     [key], {});\n",
              "          if (!dataTable) return;\n",
              "\n",
              "          const docLinkHtml = 'Like what you see? Visit the ' +\n",
              "            '<a target=\"_blank\" href=https://colab.research.google.com/notebooks/data_table.ipynb>data table notebook</a>'\n",
              "            + ' to learn more about interactive tables.';\n",
              "          element.innerHTML = '';\n",
              "          dataTable['output_type'] = 'display_data';\n",
              "          await google.colab.output.renderOutput(dataTable, element);\n",
              "          const docLink = document.createElement('div');\n",
              "          docLink.innerHTML = docLinkHtml;\n",
              "          element.appendChild(docLink);\n",
              "        }\n",
              "      </script>\n",
              "    </div>\n",
              "  </div>\n",
              "  "
            ]
          },
          "metadata": {},
          "execution_count": 8
        }
      ]
    },
    {
      "cell_type": "code",
      "source": [
        "#drop 'stab' because of the direct relationship with 'stabf'\n",
        "energy_df = energy.drop('stab', axis =1)"
      ],
      "metadata": {
        "id": "nUh0zdoh2dxI"
      },
      "execution_count": 9,
      "outputs": []
    },
    {
      "cell_type": "code",
      "source": [
        "#check distribution of target variable\n",
        "energy_df['stabf'].value_counts()"
      ],
      "metadata": {
        "colab": {
          "base_uri": "https://localhost:8080/"
        },
        "id": "4AafMIhR2duQ",
        "outputId": "3d3bf81f-5537-4a52-b8bc-be6d85d9b9e2"
      },
      "execution_count": 10,
      "outputs": [
        {
          "output_type": "execute_result",
          "data": {
            "text/plain": [
              "unstable    6380\n",
              "stable      3620\n",
              "Name: stabf, dtype: int64"
            ]
          },
          "metadata": {},
          "execution_count": 10
        }
      ]
    },
    {
      "cell_type": "code",
      "source": [
        "energy_df.head(3)"
      ],
      "metadata": {
        "colab": {
          "base_uri": "https://localhost:8080/",
          "height": 207
        },
        "id": "A6UE39V82ykx",
        "outputId": "7f805cf0-9c47-435e-ffad-941c8a37ecc4"
      },
      "execution_count": 11,
      "outputs": [
        {
          "output_type": "execute_result",
          "data": {
            "text/plain": [
              "       tau1      tau2      tau3      tau4        p1        p2        p3  \\\n",
              "0  2.959060  3.079885  8.381025  9.780754  3.763085 -0.782604 -1.257395   \n",
              "1  9.304097  4.902524  3.047541  1.369357  5.067812 -1.940058 -1.872742   \n",
              "2  8.971707  8.848428  3.046479  1.214518  3.405158 -1.207456 -1.277210   \n",
              "\n",
              "         p4        g1        g2        g3        g4     stabf  \n",
              "0 -1.723086  0.650456  0.859578  0.887445  0.958034  unstable  \n",
              "1 -1.255012  0.413441  0.862414  0.562139  0.781760    stable  \n",
              "2 -0.920492  0.163041  0.766689  0.839444  0.109853  unstable  "
            ],
            "text/html": [
              "\n",
              "  <div id=\"df-34132ab4-9429-4e57-ad68-1a8db624a090\">\n",
              "    <div class=\"colab-df-container\">\n",
              "      <div>\n",
              "<style scoped>\n",
              "    .dataframe tbody tr th:only-of-type {\n",
              "        vertical-align: middle;\n",
              "    }\n",
              "\n",
              "    .dataframe tbody tr th {\n",
              "        vertical-align: top;\n",
              "    }\n",
              "\n",
              "    .dataframe thead th {\n",
              "        text-align: right;\n",
              "    }\n",
              "</style>\n",
              "<table border=\"1\" class=\"dataframe\">\n",
              "  <thead>\n",
              "    <tr style=\"text-align: right;\">\n",
              "      <th></th>\n",
              "      <th>tau1</th>\n",
              "      <th>tau2</th>\n",
              "      <th>tau3</th>\n",
              "      <th>tau4</th>\n",
              "      <th>p1</th>\n",
              "      <th>p2</th>\n",
              "      <th>p3</th>\n",
              "      <th>p4</th>\n",
              "      <th>g1</th>\n",
              "      <th>g2</th>\n",
              "      <th>g3</th>\n",
              "      <th>g4</th>\n",
              "      <th>stabf</th>\n",
              "    </tr>\n",
              "  </thead>\n",
              "  <tbody>\n",
              "    <tr>\n",
              "      <th>0</th>\n",
              "      <td>2.959060</td>\n",
              "      <td>3.079885</td>\n",
              "      <td>8.381025</td>\n",
              "      <td>9.780754</td>\n",
              "      <td>3.763085</td>\n",
              "      <td>-0.782604</td>\n",
              "      <td>-1.257395</td>\n",
              "      <td>-1.723086</td>\n",
              "      <td>0.650456</td>\n",
              "      <td>0.859578</td>\n",
              "      <td>0.887445</td>\n",
              "      <td>0.958034</td>\n",
              "      <td>unstable</td>\n",
              "    </tr>\n",
              "    <tr>\n",
              "      <th>1</th>\n",
              "      <td>9.304097</td>\n",
              "      <td>4.902524</td>\n",
              "      <td>3.047541</td>\n",
              "      <td>1.369357</td>\n",
              "      <td>5.067812</td>\n",
              "      <td>-1.940058</td>\n",
              "      <td>-1.872742</td>\n",
              "      <td>-1.255012</td>\n",
              "      <td>0.413441</td>\n",
              "      <td>0.862414</td>\n",
              "      <td>0.562139</td>\n",
              "      <td>0.781760</td>\n",
              "      <td>stable</td>\n",
              "    </tr>\n",
              "    <tr>\n",
              "      <th>2</th>\n",
              "      <td>8.971707</td>\n",
              "      <td>8.848428</td>\n",
              "      <td>3.046479</td>\n",
              "      <td>1.214518</td>\n",
              "      <td>3.405158</td>\n",
              "      <td>-1.207456</td>\n",
              "      <td>-1.277210</td>\n",
              "      <td>-0.920492</td>\n",
              "      <td>0.163041</td>\n",
              "      <td>0.766689</td>\n",
              "      <td>0.839444</td>\n",
              "      <td>0.109853</td>\n",
              "      <td>unstable</td>\n",
              "    </tr>\n",
              "  </tbody>\n",
              "</table>\n",
              "</div>\n",
              "      <button class=\"colab-df-convert\" onclick=\"convertToInteractive('df-34132ab4-9429-4e57-ad68-1a8db624a090')\"\n",
              "              title=\"Convert this dataframe to an interactive table.\"\n",
              "              style=\"display:none;\">\n",
              "        \n",
              "  <svg xmlns=\"http://www.w3.org/2000/svg\" height=\"24px\"viewBox=\"0 0 24 24\"\n",
              "       width=\"24px\">\n",
              "    <path d=\"M0 0h24v24H0V0z\" fill=\"none\"/>\n",
              "    <path d=\"M18.56 5.44l.94 2.06.94-2.06 2.06-.94-2.06-.94-.94-2.06-.94 2.06-2.06.94zm-11 1L8.5 8.5l.94-2.06 2.06-.94-2.06-.94L8.5 2.5l-.94 2.06-2.06.94zm10 10l.94 2.06.94-2.06 2.06-.94-2.06-.94-.94-2.06-.94 2.06-2.06.94z\"/><path d=\"M17.41 7.96l-1.37-1.37c-.4-.4-.92-.59-1.43-.59-.52 0-1.04.2-1.43.59L10.3 9.45l-7.72 7.72c-.78.78-.78 2.05 0 2.83L4 21.41c.39.39.9.59 1.41.59.51 0 1.02-.2 1.41-.59l7.78-7.78 2.81-2.81c.8-.78.8-2.07 0-2.86zM5.41 20L4 18.59l7.72-7.72 1.47 1.35L5.41 20z\"/>\n",
              "  </svg>\n",
              "      </button>\n",
              "      \n",
              "  <style>\n",
              "    .colab-df-container {\n",
              "      display:flex;\n",
              "      flex-wrap:wrap;\n",
              "      gap: 12px;\n",
              "    }\n",
              "\n",
              "    .colab-df-convert {\n",
              "      background-color: #E8F0FE;\n",
              "      border: none;\n",
              "      border-radius: 50%;\n",
              "      cursor: pointer;\n",
              "      display: none;\n",
              "      fill: #1967D2;\n",
              "      height: 32px;\n",
              "      padding: 0 0 0 0;\n",
              "      width: 32px;\n",
              "    }\n",
              "\n",
              "    .colab-df-convert:hover {\n",
              "      background-color: #E2EBFA;\n",
              "      box-shadow: 0px 1px 2px rgba(60, 64, 67, 0.3), 0px 1px 3px 1px rgba(60, 64, 67, 0.15);\n",
              "      fill: #174EA6;\n",
              "    }\n",
              "\n",
              "    [theme=dark] .colab-df-convert {\n",
              "      background-color: #3B4455;\n",
              "      fill: #D2E3FC;\n",
              "    }\n",
              "\n",
              "    [theme=dark] .colab-df-convert:hover {\n",
              "      background-color: #434B5C;\n",
              "      box-shadow: 0px 1px 3px 1px rgba(0, 0, 0, 0.15);\n",
              "      filter: drop-shadow(0px 1px 2px rgba(0, 0, 0, 0.3));\n",
              "      fill: #FFFFFF;\n",
              "    }\n",
              "  </style>\n",
              "\n",
              "      <script>\n",
              "        const buttonEl =\n",
              "          document.querySelector('#df-34132ab4-9429-4e57-ad68-1a8db624a090 button.colab-df-convert');\n",
              "        buttonEl.style.display =\n",
              "          google.colab.kernel.accessAllowed ? 'block' : 'none';\n",
              "\n",
              "        async function convertToInteractive(key) {\n",
              "          const element = document.querySelector('#df-34132ab4-9429-4e57-ad68-1a8db624a090');\n",
              "          const dataTable =\n",
              "            await google.colab.kernel.invokeFunction('convertToInteractive',\n",
              "                                                     [key], {});\n",
              "          if (!dataTable) return;\n",
              "\n",
              "          const docLinkHtml = 'Like what you see? Visit the ' +\n",
              "            '<a target=\"_blank\" href=https://colab.research.google.com/notebooks/data_table.ipynb>data table notebook</a>'\n",
              "            + ' to learn more about interactive tables.';\n",
              "          element.innerHTML = '';\n",
              "          dataTable['output_type'] = 'display_data';\n",
              "          await google.colab.output.renderOutput(dataTable, element);\n",
              "          const docLink = document.createElement('div');\n",
              "          docLink.innerHTML = docLinkHtml;\n",
              "          element.appendChild(docLink);\n",
              "        }\n",
              "      </script>\n",
              "    </div>\n",
              "  </div>\n",
              "  "
            ]
          },
          "metadata": {},
          "execution_count": 11
        }
      ]
    },
    {
      "cell_type": "code",
      "source": [
        "#get features and labels\n",
        "x = energy_df.drop(columns=['stabf'])\n",
        "y = energy_df['stabf']"
      ],
      "metadata": {
        "id": "FL-kifwk2zf5"
      },
      "execution_count": 12,
      "outputs": []
    },
    {
      "cell_type": "code",
      "source": [
        "#Split the dataset into an 80-20 train-test split\n",
        "from sklearn.model_selection import train_test_split\n",
        "\n",
        "x_train, x_test, y_train, y_test = train_test_split(x, y, test_size=0.2, random_state=1)"
      ],
      "metadata": {
        "id": "2jL6aZJX2zb0"
      },
      "execution_count": 13,
      "outputs": []
    },
    {
      "cell_type": "code",
      "source": [
        "#Standard scaler\n",
        "#ignore the y variable since it is an object type.\n",
        "\n",
        "from sklearn.preprocessing import StandardScaler\n",
        "scaler = StandardScaler()\n",
        "\n",
        "normalised_train_df = scaler.fit_transform(x_train)\n",
        "normalised_train_df = pd.DataFrame(normalised_train_df, columns = x_train.columns)\n",
        "\n",
        "normalised_test_df = scaler.transform(x_test)\n",
        "normalised_test_df = pd.DataFrame(normalised_test_df, columns = x_test.columns)"
      ],
      "metadata": {
        "id": "kbB3-puv2zZs"
      },
      "execution_count": 14,
      "outputs": []
    },
    {
      "cell_type": "markdown",
      "source": [
        "## MODELING"
      ],
      "metadata": {
        "id": "as7qlKIx3Qy6"
      }
    },
    {
      "cell_type": "markdown",
      "source": [
        "Random Forest"
      ],
      "metadata": {
        "id": "pUEX5Bo53X4W"
      }
    },
    {
      "cell_type": "code",
      "source": [
        "#train a RandomForestClassifier \n",
        "from sklearn.ensemble import RandomForestClassifier\n",
        "\n",
        "randf = RandomForestClassifier(random_state = 1)\n",
        "\n",
        "#fit on train set\n",
        "randf.fit(normalised_train_df, y_train)\n",
        "\n",
        "#make predictions on test set\n",
        "randf_pred = randf.predict(normalised_test_df)"
      ],
      "metadata": {
        "id": "neLapxdb3H2c"
      },
      "execution_count": 15,
      "outputs": []
    },
    {
      "cell_type": "markdown",
      "source": [
        "## Evaluation the performance of the model"
      ],
      "metadata": {
        "id": "y3tjtTx03fMK"
      }
    },
    {
      "cell_type": "code",
      "source": [
        "#model accuracy\n",
        "from sklearn.metrics import accuracy_score, classification_report\n",
        "\n",
        "accuracy = accuracy_score(y_test, randf_pred)\n",
        "print('Accuracy: {}'.format(round(accuracy*100), 2))\n",
        "\n",
        "#classification report\n",
        "print('Classification Report:\\n', classification_report(y_test,randf_pred, digits =4))"
      ],
      "metadata": {
        "colab": {
          "base_uri": "https://localhost:8080/"
        },
        "id": "2T4zhikQ3IfY",
        "outputId": "5a726118-6527-498b-eed2-398dacd50d35"
      },
      "execution_count": 16,
      "outputs": [
        {
          "output_type": "stream",
          "name": "stdout",
          "text": [
            "Accuracy: 93\n",
            "Classification Report:\n",
            "               precision    recall  f1-score   support\n",
            "\n",
            "      stable     0.9191    0.8778    0.8980       712\n",
            "    unstable     0.9341    0.9573    0.9456      1288\n",
            "\n",
            "    accuracy                         0.9290      2000\n",
            "   macro avg     0.9266    0.9176    0.9218      2000\n",
            "weighted avg     0.9288    0.9290    0.9286      2000\n",
            "\n"
          ]
        }
      ]
    },
    {
      "cell_type": "markdown",
      "source": [
        "## ExtraTreesClassifier"
      ],
      "metadata": {
        "id": "x2q4xMYS31DT"
      }
    },
    {
      "cell_type": "code",
      "source": [
        "from sklearn.ensemble import ExtraTreesClassifier\n",
        "\n",
        "etc = ExtraTreesClassifier(random_state = 1)\n",
        "\n",
        "#fit on the train set\n",
        "etc.fit(normalised_train_df, y_train)\n",
        "\n",
        "#predict on test set\n",
        "etc_pred = etc.predict(normalised_test_df)"
      ],
      "metadata": {
        "id": "3F_LbNjJ3I0C"
      },
      "execution_count": 17,
      "outputs": []
    },
    {
      "cell_type": "markdown",
      "source": [
        "## Evaluating the performance"
      ],
      "metadata": {
        "id": "2xrsW2yA38p_"
      }
    },
    {
      "cell_type": "code",
      "source": [
        "#model accuracy\n",
        "etc_accuracy = accuracy_score(y_test, etc_pred)\n",
        "print('Accuracy: {}'.format(round(etc_accuracy*100), 2))\n",
        "\n",
        "#classification report\n",
        "print('Classification Report:\\n', classification_report(y_test,etc_pred, digits =4))"
      ],
      "metadata": {
        "colab": {
          "base_uri": "https://localhost:8080/"
        },
        "id": "q92G2cO533zb",
        "outputId": "defabb40-8316-46b0-a251-d5ecc5ed4257"
      },
      "execution_count": 18,
      "outputs": [
        {
          "output_type": "stream",
          "name": "stdout",
          "text": [
            "Accuracy: 93\n",
            "Classification Report:\n",
            "               precision    recall  f1-score   support\n",
            "\n",
            "      stable     0.9410    0.8511    0.8938       712\n",
            "    unstable     0.9218    0.9705    0.9455      1288\n",
            "\n",
            "    accuracy                         0.9280      2000\n",
            "   macro avg     0.9314    0.9108    0.9197      2000\n",
            "weighted avg     0.9287    0.9280    0.9271      2000\n",
            "\n"
          ]
        }
      ]
    },
    {
      "cell_type": "markdown",
      "source": [
        "## LightGBM Classifier"
      ],
      "metadata": {
        "id": "JPPlb2ZB4Hbq"
      }
    },
    {
      "cell_type": "code",
      "source": [
        "from lightgbm import LGBMClassifier\n",
        "\n",
        "lgbm = LGBMClassifier(random_state = 1)\n",
        "\n",
        "#fit on train set\n",
        "lgbm.fit(normalised_train_df, y_train)\n",
        "\n",
        "#predict on test set\n",
        "lgbm_pred = lgbm.predict(normalised_test_df)"
      ],
      "metadata": {
        "id": "rTMRa6qw33wf"
      },
      "execution_count": 19,
      "outputs": []
    },
    {
      "cell_type": "markdown",
      "source": [
        "## Evaluating the performance of the model"
      ],
      "metadata": {
        "id": "SBRLmUEw4PLY"
      }
    },
    {
      "cell_type": "code",
      "source": [
        "#model accuracy\n",
        "lgbm_accuracy = accuracy_score(y_test, lgbm_pred)\n",
        "print('Accuracy: {}'.format(round(lgbm_accuracy*100), 2))\n",
        "\n",
        "#classification report\n",
        "print('Classification Report:\\n', classification_report(y_test,lgbm_pred, digits =4))"
      ],
      "metadata": {
        "colab": {
          "base_uri": "https://localhost:8080/"
        },
        "id": "2JWqmSGd33sX",
        "outputId": "97dd0e1b-094d-442e-f317-fd09cb33211b"
      },
      "execution_count": 20,
      "outputs": [
        {
          "output_type": "stream",
          "name": "stdout",
          "text": [
            "Accuracy: 94\n",
            "Classification Report:\n",
            "               precision    recall  f1-score   support\n",
            "\n",
            "      stable     0.9297    0.8919    0.9104       712\n",
            "    unstable     0.9415    0.9627    0.9520      1288\n",
            "\n",
            "    accuracy                         0.9375      2000\n",
            "   macro avg     0.9356    0.9273    0.9312      2000\n",
            "weighted avg     0.9373    0.9375    0.9372      2000\n",
            "\n"
          ]
        }
      ]
    },
    {
      "cell_type": "markdown",
      "source": [
        "# XGBoost Classifier"
      ],
      "metadata": {
        "id": "dIa_rBBe4by1"
      }
    },
    {
      "cell_type": "code",
      "source": [
        "from xgboost import XGBClassifier\n",
        "xbg = XGBClassifier(random_state=1)\n",
        "\n",
        "#fit on train set\n",
        "xbg.fit(normalised_train_df, y_train)\n",
        "\n",
        "#predict on test set\n",
        "xbg_pred = xbg.predict(normalised_test_df)"
      ],
      "metadata": {
        "id": "hKMk_SJ_33ql"
      },
      "execution_count": 30,
      "outputs": []
    },
    {
      "cell_type": "markdown",
      "source": [
        "# Evaluating the performance"
      ],
      "metadata": {
        "id": "gKXc3V-s4nTT"
      }
    },
    {
      "cell_type": "code",
      "source": [
        "\n",
        "#Accuracy\n",
        "xbg_accuracy = accuracy_score(y_test, xbg_pred)\n",
        "print('Accuracy: {}'.format(round(xbg_accuracy*100), 2))\n",
        "\n",
        "#Classification report\n",
        "print('Classification Report:\\n', classification_report(y_test,xbg_pred, digits =4))"
      ],
      "metadata": {
        "id": "lBNGHeaO33mp"
      },
      "execution_count": null,
      "outputs": []
    },
    {
      "cell_type": "markdown",
      "source": [
        "Improving the performance ofExtraTreesClassifier"
      ],
      "metadata": {
        "id": "q4UiWSxE4w8o"
      }
    },
    {
      "cell_type": "code",
      "source": [],
      "metadata": {
        "id": "xmagsIbN33kf"
      },
      "execution_count": 22,
      "outputs": []
    },
    {
      "cell_type": "code",
      "source": [
        "#combination of hyperparameters\n",
        "n_estimators = [50, 100, 300, 500, 1000]\n",
        "min_samples_split = [2, 3, 5, 7, 9]\n",
        "min_samples_leaf = [1, 2, 4, 6, 8]\n",
        "\n",
        "max_features = ['auto', 'sqrt', 'log2', None] \n",
        "hyperparameter_grid = {'n_estimators': n_estimators,\n",
        "                       'min_samples_leaf': min_samples_leaf,\n",
        "                       'min_samples_split': min_samples_split,\n",
        "                       'max_features': max_features}"
      ],
      "metadata": {
        "id": "KGxGEoXd44uH"
      },
      "execution_count": 23,
      "outputs": []
    },
    {
      "cell_type": "code",
      "source": [
        "from sklearn.model_selection import RandomizedSearchCV\n",
        "\n",
        "#set up randomsearch with 5folds\n",
        "\n",
        "etc_random = RandomizedSearchCV(estimator = etc, \n",
        "                              param_distributions = hyperparameter_grid, cv=5, n_iter=10, \n",
        "                                scoring = 'accuracy', n_jobs = -1, verbose = 1,\n",
        "                              random_state = 1)\n"
      ],
      "metadata": {
        "id": "_Sg4UgQJ44rO"
      },
      "execution_count": 24,
      "outputs": []
    },
    {
      "cell_type": "code",
      "source": [
        "#fit on the training data\n",
        "search = etc_random.fit(normalised_train_df, y_train)"
      ],
      "metadata": {
        "colab": {
          "base_uri": "https://localhost:8080/"
        },
        "id": "LYRNKBGd44m5",
        "outputId": "87dbc692-2333-426f-cf2b-4b3fb16aa185"
      },
      "execution_count": 25,
      "outputs": [
        {
          "output_type": "stream",
          "name": "stdout",
          "text": [
            "Fitting 5 folds for each of 10 candidates, totalling 50 fits\n"
          ]
        }
      ]
    },
    {
      "cell_type": "code",
      "source": [
        "#get best parameters\n",
        "search.best_params_"
      ],
      "metadata": {
        "colab": {
          "base_uri": "https://localhost:8080/"
        },
        "id": "E2Pj-9a544kw",
        "outputId": "cb2a4132-6927-4816-fa81-568e30c032af"
      },
      "execution_count": 26,
      "outputs": [
        {
          "output_type": "execute_result",
          "data": {
            "text/plain": [
              "{'n_estimators': 1000,\n",
              " 'min_samples_split': 2,\n",
              " 'min_samples_leaf': 8,\n",
              " 'max_features': None}"
            ]
          },
          "metadata": {},
          "execution_count": 26
        }
      ]
    },
    {
      "cell_type": "code",
      "source": [
        "#Evaluate ExtraTreesClassifier on test set using  best params\n",
        "etc = ExtraTreesClassifier(max_features = None, \n",
        "                            min_samples_leaf= 8,\n",
        "                            min_samples_split= 2,\n",
        "                            n_estimators= 1000, \n",
        "                            random_state = 1)\n",
        "\n",
        "#fit on train set\n",
        "etc.fit(normalised_train_df, y_train)\n",
        "\n",
        "#predict on test set\n",
        "etc_pred = etc.predict(normalised_test_df)"
      ],
      "metadata": {
        "id": "yDhK4eBh5LPg"
      },
      "execution_count": 27,
      "outputs": []
    },
    {
      "cell_type": "code",
      "source": [
        "#classification report for the hyperparameter tuning\n",
        "print('Classification Report:\\n', classification_report(y_test,etc_pred, digits =4))"
      ],
      "metadata": {
        "colab": {
          "base_uri": "https://localhost:8080/"
        },
        "id": "v8pdiSs05LMq",
        "outputId": "e3d752ef-d37d-49a0-c25b-334796893daa"
      },
      "execution_count": 28,
      "outputs": [
        {
          "output_type": "stream",
          "name": "stdout",
          "text": [
            "Classification Report:\n",
            "               precision    recall  f1-score   support\n",
            "\n",
            "      stable     0.9211    0.8694    0.8945       712\n",
            "    unstable     0.9300    0.9589    0.9442      1288\n",
            "\n",
            "    accuracy                         0.9270      2000\n",
            "   macro avg     0.9256    0.9141    0.9193      2000\n",
            "weighted avg     0.9268    0.9270    0.9265      2000\n",
            "\n"
          ]
        }
      ]
    },
    {
      "cell_type": "code",
      "source": [
        "#plot graph of feature importance\n",
        "feat_importance = pd.Series(etc.feature_importances_, index = x.columns)\n",
        "feat_importance.nlargest(11).plot(kind='barh')\n",
        "plt.show()"
      ],
      "metadata": {
        "colab": {
          "base_uri": "https://localhost:8080/",
          "height": 265
        },
        "id": "5ZCoXZn65LE8",
        "outputId": "134809f2-3365-4ac3-c5fc-1d5e75499b80"
      },
      "execution_count": 29,
      "outputs": [
        {
          "output_type": "display_data",
          "data": {
            "text/plain": [
              "<Figure size 432x288 with 1 Axes>"
            ],
            "image/png": "[encoded data removed]"
          },
          "metadata": {
            "needs_background": "light"
          }
        }
      ]
    },
    {
      "cell_type": "code",
      "source": [],
      "metadata": {
        "id": "Lv7UyymG5LCE"
      },
      "execution_count": 29,
      "outputs": []
    }
  ]
}